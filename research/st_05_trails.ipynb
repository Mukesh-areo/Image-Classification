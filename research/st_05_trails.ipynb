{
 "cells": [
  {
   "cell_type": "code",
   "execution_count": 1,
   "metadata": {},
   "outputs": [],
   "source": [
    "import tensorflow as tf"
   ]
  },
  {
   "cell_type": "code",
   "execution_count": null,
   "metadata": {},
   "outputs": [],
   "source": []
  },
  {
   "cell_type": "code",
   "execution_count": 2,
   "metadata": {},
   "outputs": [],
   "source": [
    "import os"
   ]
  },
  {
   "cell_type": "code",
   "execution_count": 3,
   "metadata": {},
   "outputs": [],
   "source": [
    "#os.environ['MLFLOW_TRACKING_URI']='https://dagshub.com/Mukesh-areo/CNN_claasaifier.mlflow' \n",
    "#os.environ['MLFLOW_TRACKING_USERNAME']='Mukesh-areo' \n",
    "#os.environ['MLFLOW_TRACKING_PASSWORD']='434cc55976d25211145784e69290bf348ce1e14a' \n"
   ]
  },
  {
   "cell_type": "code",
   "execution_count": 4,
   "metadata": {},
   "outputs": [],
   "source": [
    "os.chdir(\"../\")"
   ]
  },
  {
   "cell_type": "code",
   "execution_count": 5,
   "metadata": {},
   "outputs": [],
   "source": [
    "model=tf.keras.models.load_model(\"artifacts/training/model.h5\")"
   ]
  },
  {
   "cell_type": "code",
   "execution_count": 6,
   "metadata": {},
   "outputs": [],
   "source": [
    "from dataclasses import dataclass\n",
    "from pathlib import Path\n",
    "\n",
    "\n",
    "@dataclass(frozen=True)\n",
    "class Evaluavationconfig:\n",
    "    \"\"\"\n",
    "    Configuration for evaluating the performance of a model.\n",
    "    \"\"\"\n",
    "    path_of_model: Path\n",
    "    training_data: Path\n",
    "    mlflow_uri: str\n",
    "    all_params: dict\n",
    "    params_image_size: list\n",
    "    params_batch_size: int\n"
   ]
  },
  {
   "cell_type": "code",
   "execution_count": 7,
   "metadata": {},
   "outputs": [],
   "source": [
    "from deepClassifier.constants import *\n",
    "from deepClassifier.utils import read_yaml, create_directories,save_json\n",
    "\n",
    "class ConfigurationManager:\n",
    "    def __init__(\n",
    "        self, \n",
    "        config_filepath = CONFIG_FILE_PATH,\n",
    "        params_filepath = PARAMS_FILE_PATH):\n",
    "        self.config = read_yaml(config_filepath)\n",
    "        self.params = read_yaml(params_filepath)\n",
    "        create_directories([self.config.artifacts_root])\n",
    "\n",
    "    def get_validation_config(self) -> Evaluavationconfig:\n",
    "        eval_config = Evaluavationconfig(\n",
    "                path_of_model= \"artifacts/training/model.h5\",\n",
    "                training_data= \"artifacts/data_ingestion/Images\",\n",
    "                mlflow_uri=\"https://dagshub.com/Mukesh-areo/CNN_claasaifier.mlflow\",\n",
    "                all_params=self.params,\n",
    "                params_image_size=self.params.IMAGE_SIZE,\n",
    "                params_batch_size=self.params.BATCH_SIZE\n",
    "        )\n",
    "        return eval_config"
   ]
  },
  {
   "cell_type": "code",
   "execution_count": 8,
   "metadata": {},
   "outputs": [],
   "source": [
    "from urllib.parse import urlparse\n",
    "import tensorflow as tf\n",
    "from pathlib import Path\n",
    "#import mlflow\n",
    "#import mlflow.keras\n",
    "class Evaluation:\n",
    "    def __init__(self, config: Evaluavationconfig):\n",
    "        self.config = config\n",
    "\n",
    "\n",
    "    def _valid_generator(self):\n",
    "\n",
    "        datagenerator_kwargs = dict(\n",
    "            rescale = 1./255,\n",
    "            validation_split=0.30\n",
    "        )\n",
    "\n",
    "        dataflow_kwargs = dict(\n",
    "            target_size=self.config.params_image_size[:-1],\n",
    "            batch_size=self.config.params_batch_size,\n",
    "            interpolation=\"bilinear\"\n",
    "        )\n",
    "\n",
    "        valid_datagenerator = tf.keras.preprocessing.image.ImageDataGenerator(\n",
    "            **datagenerator_kwargs\n",
    "        )\n",
    "\n",
    "        self.valid_generator = valid_datagenerator.flow_from_directory(\n",
    "            directory=self.config.training_data,\n",
    "            subset=\"validation\",\n",
    "            shuffle=False,\n",
    "            **dataflow_kwargs\n",
    "        )\n",
    "\n",
    "\n",
    "    @staticmethod\n",
    "    def load_model(path: Path) -> tf.keras.Model:\n",
    "        return tf.keras.models.load_model(path)\n",
    "\n",
    "\n",
    "    def evaluation(self):\n",
    "        self.model = self.load_model(\"artifacts/training/model.h5\")\n",
    "        self._valid_generator()\n",
    "        self.score = model.evaluate(self.valid_generator)\n",
    "\n",
    "\n",
    "    def save_score(self):\n",
    "        scores = {\"loss\": self.score[0], \"accuracy\": self.score[1]}\n",
    "        save_json(path=Path(\"scores.json\"), data=scores)\n",
    "\n",
    "#    def log_into_mlflow(self):\n",
    "#        mlflow.set_registry_uri(self.config.mlflow_uri)\n",
    "#        tracking_url_type_store = urlparse(mlflow.get_tracking_uri()).scheme\n",
    "#        with mlflow.start_run():\n",
    "#            mlflow.log_params(self.config.all_params)\n",
    "#            mlflow.log_metrics(\n",
    "\n",
    "#                {\"loss\": self.score[0], \"accuracy\": self.score[1]}\n",
    "#            )\n",
    "#            if tracking_url_type_store != \"file\":\n",
    "\n",
    "#                mlflow.keras.log_model(self.model,\"model\",registered_model_name=\"VGG16model\")\n",
    "#            else:\n",
    "#                mlflow.keras.log_model(self.model,\"model\")"
   ]
  },
  {
   "cell_type": "code",
   "execution_count": 9,
   "metadata": {},
   "outputs": [
    {
     "name": "stdout",
     "output_type": "stream",
     "text": [
      "Found 3 images belonging to 3 classes.\n",
      "2/2 [==============================] - 3s 674ms/step - loss: 2140.5583 - accuracy: 0.3333\n"
     ]
    }
   ],
   "source": [
    "from distutils.command import config\n",
    "\n",
    "\n",
    "try:\n",
    "    config= ConfigurationManager()\n",
    "    val_config= config.get_validation_config()\n",
    "    evaluation= Evaluation(val_config)\n",
    "    evaluation.evaluation()\n",
    "    evaluation.save_score()\n",
    "#    evaluation.log_into_mlflow()\n",
    "\n",
    "except Exception as e:\n",
    "    print(e)"
   ]
  }
 ],
 "metadata": {
  "kernelspec": {
   "display_name": "Python 3.8.13 (conda)",
   "language": "python",
   "name": "python3"
  },
  "language_info": {
   "codemirror_mode": {
    "name": "ipython",
    "version": 3
   },
   "file_extension": ".py",
   "mimetype": "text/x-python",
   "name": "python",
   "nbconvert_exporter": "python",
   "pygments_lexer": "ipython3",
   "version": "3.8.13"
  },
  "orig_nbformat": 4,
  "vscode": {
   "interpreter": {
    "hash": "facb9d409b7efca79a2c12d68023e045e611d107016c8440a9db6e5a79210dac"
   }
  }
 },
 "nbformat": 4,
 "nbformat_minor": 2
}
